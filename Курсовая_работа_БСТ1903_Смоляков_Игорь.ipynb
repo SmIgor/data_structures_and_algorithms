{
 "cells": [
  {
   "cell_type": "markdown",
   "metadata": {},
   "source": [
    "# Курсовая работа по дисциплине СиАОД"
   ]
  },
  {
   "cell_type": "markdown",
   "metadata": {},
   "source": [
    "## Выполнил студент группы БСТ1903 Смоляков И.В."
   ]
  },
  {
   "cell_type": "markdown",
   "metadata": {},
   "source": [
    "### Задача 1 «Шарики и стрелы»"
   ]
  },
  {
   "cell_type": "markdown",
   "metadata": {},
   "source": [
    "Некоторые сферические шарики распределены по двухмерному пространству. Для каждого шарика даны x-координаты начала и конца его горизонтального диаметра. Так как пространство двумерно, то y-координаты не имеют значения в данной задаче. Координата Xstart всегда меньше Xend. Стрелу можно выстрелить строго вертикально (вдоль y-оси) из разных точек x-оси. Шарик с координатами Xstart и Xend уничтожается стрелой, если она была выпущена из такой позиции x, что Xstart ⩽ x ⩽ Xend. Когда стрела выпущена, она летит в пространстве бесконечное время (уничтожая все шарики на пути). Дан массив points, где points[i] = [Xstart, Xend]. Напишите функцию, возвращающую минимальное количество стрел, которые нужно выпустить, чтобы уничтожить все шарики."
   ]
  },
  {
   "cell_type": "code",
   "execution_count": 1,
   "metadata": {},
   "outputs": [
    {
     "name": "stdout",
     "output_type": "stream",
     "text": [
      "[[10, 16],[2,8],[1,6],[7,12]] --> 2\n",
      "[[1,2],[3,4],[5,6],[7,8]] --> 4\n",
      "[[1,2],[2,3],[3,4],[4,5]] --> 2\n",
      "[[1,2]] --> 1\n",
      "[[2,3],[2,3]] --> 1\n"
     ]
    }
   ],
   "source": [
    "\n",
    "def findMinArrowShots(points):\n",
    "        if len(points) == 0:\n",
    "            return 0\n",
    "        points.sort(key = lambda a:a[1])\n",
    "        arrows = 1\n",
    "        curr = points[0]\n",
    "        for balloon in points:\n",
    "            if curr[1] < balloon[0]:\n",
    "                curr = balloon\n",
    "                arrows += 1\n",
    "        return arrows\n",
    "    \n",
    "print(\"[[10, 16],[2,8],[1,6],[7,12]] -->\", findMinArrowShots([[10,16], [2,8], [1,6], [7,12]]))\n",
    "print(\"[[1,2],[3,4],[5,6],[7,8]] -->\", findMinArrowShots([[1,2],[3,4],[5,6],[7,8]]))\n",
    "print(\"[[1,2],[2,3],[3,4],[4,5]] -->\", findMinArrowShots([[1,2],[2,3],[3,4],[4,5]]))\n",
    "print(\"[[1,2]] -->\", findMinArrowShots([[1,2]]))\n",
    "print(\"[[2,3],[2,3]] -->\", findMinArrowShots([[2,3],[2,3]]))\n"
   ]
  },
  {
   "cell_type": "markdown",
   "metadata": {},
   "source": [
    "## Задача 2 «Стопки монет»¶"
   ]
  },
  {
   "cell_type": "markdown",
   "metadata": {},
   "source": [
    "На столе стоят 3n стопок монет. Вы и ваши друзья Алиса и Боб забираете стопки монет по следующему алгоритму:\n",
    "\n",
    "1.Вы выбираете 3 стопки монет из оставшихся на столе\n",
    "\n",
    "2.Алиса забирает себе стопку с максимальным количеством монет.\n",
    "\n",
    "3.Вы забираете одну из двух оставшихся стопок.\n",
    "\n",
    "4.Боб забирает последнюю стопку.\n",
    "\n",
    "5.Если еще остались стопки, то действия повторяются с первого шага.\n",
    "\n",
    "\n",
    "Дан массив целых положительных чисел piles. Напишите функцию, возвращающую максимальное число монет, которое вы можете получить."
   ]
  },
  {
   "cell_type": "code",
   "execution_count": 2,
   "metadata": {},
   "outputs": [
    {
     "name": "stdout",
     "output_type": "stream",
     "text": [
      "9\n",
      "4\n",
      "18\n"
     ]
    }
   ],
   "source": [
    "import random\n",
    "\n",
    "def maxCoins(arr):\n",
    "    you = 0\n",
    "    while len(arr) > 0:\n",
    "        threeCoins = []\n",
    "        for i in range(2):\n",
    "            threeCoins.append(arr.pop(arr.index(max(arr))))\n",
    "        threeCoins.append(arr.pop(arr.index(min(arr))))\n",
    "        you += threeCoins[1]\n",
    "    return you\n",
    "\n",
    "print(maxCoins([2, 4, 1, 2, 7, 8]))\n",
    "print(maxCoins([2, 4, 5]))\n",
    "print(maxCoins([9, 8, 7, 6, 5, 1, 2, 3, 4]))"
   ]
  },
  {
   "cell_type": "markdown",
   "metadata": {},
   "source": [
    "## Задача 3. «Объединение отрезков»"
   ]
  },
  {
   "cell_type": "markdown",
   "metadata": {},
   "source": [
    "Дан массив отрезков intervals, в котором intervals[i] = [starti, endi], некоторые отрезки могут пересекаться. Напишите функцию, которая объединяет все пересекающиеся отрезки в один и возвращает новый массив непересекающихся отрезков."
   ]
  },
  {
   "cell_type": "code",
   "execution_count": 3,
   "metadata": {},
   "outputs": [
    {
     "name": "stdout",
     "output_type": "stream",
     "text": [
      "[[1, 6], [8, 10], [15, 18]]\n",
      "[[1, 5]]\n"
     ]
    }
   ],
   "source": [
    "\n",
    "def concate_intervals(intervals):\n",
    "    result = []\n",
    "    intervals.sort()\n",
    "    for interval in intervals:\n",
    "        if result == [] or result[-1][1] < interval[0]:\n",
    "            result.append(interval)\n",
    "        else:\n",
    "            result[-1][1] = max(result[-1][1], interval[1])\n",
    "    return result\n",
    "\n",
    "print(concate_intervals([[1,3],[2,6],[8,10],[15,18]]))\n",
    "print(concate_intervals([[1,4],[4,5]]))"
   ]
  },
  {
   "cell_type": "markdown",
   "metadata": {},
   "source": [
    "## Задача 4. «Треугольник с максимальным периметром»\n",
    "Массив A состоит из целых положительных чисел ­ длин отрезков. Составьте из трех отрезков такой треугольник, чтобы его периметр был максимально возможным. Если невозможно составить треугольник с положительной площадью ­ функция возвращает 0"
   ]
  },
  {
   "cell_type": "code",
   "execution_count": 4,
   "metadata": {},
   "outputs": [
    {
     "name": "stdout",
     "output_type": "stream",
     "text": [
      "5\n",
      "0\n",
      "10\n",
      "8\n"
     ]
    }
   ],
   "source": [
    "from math import sqrt\n",
    "\n",
    "def biggestPer(arr):\n",
    "    biggest = 0\n",
    "    for a in range(len(arr)-2):\n",
    "        for b in range(a+1, len(arr)-1):\n",
    "            for c in range(b+1, len(arr)):\n",
    "                p = (arr[a] + arr[b] + arr[c]) / 2\n",
    "                S2 = p * (p - arr[a]) * (p - arr[b]) * (p - arr[c])\n",
    "                if S2 <= 0:\n",
    "                    continue\n",
    "                S = sqrt(S2)\n",
    "                perim = arr[a] + arr[b] + arr[c]\n",
    "                if perim > biggest:\n",
    "                    biggest = perim\n",
    "    return biggest\n",
    "\n",
    "\n",
    "print(biggestPer([2,1,2]))\n",
    "print(biggestPer([1,2,1]))\n",
    "print(biggestPer([3,2,3,4]))\n",
    "print(biggestPer([3,6,2,3]))"
   ]
  },
  {
   "cell_type": "markdown",
   "metadata": {},
   "source": [
    "## Задача 5. «Максимальное число»¶\n",
    "Дан массив неотрицательных целых чисел nums. Расположите их в таком порядке, чтобы вместе они образовали максимально возможное число. Замечание: Результат может быть очень большим числом, поэтому представьте его как string, а не integer."
   ]
  },
  {
   "cell_type": "code",
   "execution_count": 5,
   "metadata": {},
   "outputs": [
    {
     "name": "stdout",
     "output_type": "stream",
     "text": [
      "210\n",
      "9534330\n",
      "1\n",
      "10\n"
     ]
    }
   ],
   "source": [
    "def maxNum(arr):\n",
    "    def bigger(a, b):\n",
    "        ab = int(str(a) + str(b))\n",
    "        ba = int(str(b) + str(a))\n",
    "        if ab > ba:\n",
    "            return True\n",
    "        else:\n",
    "            return False\n",
    "    \n",
    "    def sortArr(arr):\n",
    "        for i in range(len(arr) - 1):\n",
    "            biggest = i\n",
    "            for j in range(i + 1, len(arr)):\n",
    "                if not bigger(arr[biggest], arr[j]):\n",
    "                    biggest = j\n",
    "            arr[i], arr[biggest] = arr[biggest], arr[i]\n",
    "    \n",
    "    sortArr(arr)\n",
    "    return ''.join(str(e) for e in arr)\n",
    "\n",
    "\n",
    "print(maxNum([10,2]))\n",
    "print(maxNum([3,30,34,5,9]))\n",
    "print(maxNum([1]))\n",
    "print(maxNum([10]))"
   ]
  },
  {
   "cell_type": "markdown",
   "metadata": {},
   "source": [
    "\n",
    "## Задача 6. «Сортировка диагоналей в матрице»\n",
    " Дана матрица mat размером m * n, значения ­ целочисленные. Напишите функцию, сортирующую каждую диагональ матрицы по возрастанию и возвращающую получившуюся матрицу."
   ]
  },
  {
   "cell_type": "code",
   "execution_count": 6,
   "metadata": {},
   "outputs": [
    {
     "name": "stdout",
     "output_type": "stream",
     "text": [
      "[[3 3 1 1]\n",
      " [2 2 1 2]\n",
      " [1 1 1 2]]\n",
      "[[1 1 1 1]\n",
      " [1 2 2 2]\n",
      " [1 2 3 3]] \n",
      "\n",
      "[[11 25 66  1 69  7]\n",
      " [23 55 17 45 15 52]\n",
      " [75 31 36 44 58  8]\n",
      " [22 27 33 25 68  4]\n",
      " [84 28 14 11  5 50]]\n",
      "[[ 5 17  4  1 52  7]\n",
      " [11 11 25 45  8 69]\n",
      " [14 23 25 44 58 15]\n",
      " [22 27 31 36 50 66]\n",
      " [84 28 75 33 55 68]] \n",
      "\n"
     ]
    }
   ],
   "source": [
    "import numpy\n",
    "def sortDiag(matrix):\n",
    "    for i in range(len(matrix)):\n",
    "        diag = []\n",
    "        r = i\n",
    "        c = 0\n",
    "        while True:\n",
    "            try:\n",
    "                diag.append(matrix[r][c])\n",
    "                r += 1\n",
    "                c += 1\n",
    "            except IndexError:\n",
    "                break\n",
    "        diag.sort()\n",
    "        r = i\n",
    "        c = 0\n",
    "        for j in range(len(diag)):\n",
    "            matrix[r][c] = diag[j]\n",
    "            r += 1\n",
    "            c += 1\n",
    "    \n",
    "    for i in range(1, len(matrix[0])):\n",
    "        diag = []\n",
    "        r = 0\n",
    "        c = i\n",
    "        while True:\n",
    "            try:\n",
    "                diag.append(matrix[r][c])\n",
    "                r += 1\n",
    "                c += 1\n",
    "            except IndexError:\n",
    "                break\n",
    "        diag.sort()\n",
    "        r = 0\n",
    "        c = i\n",
    "        for j in range(len(diag)):\n",
    "            matrix[r][c] = diag[j]\n",
    "            r += 1\n",
    "            c += 1\n",
    "    \n",
    "    return matrix\n",
    "\n",
    "mat = numpy.array([[3, 3, 1, 1], [2, 2, 1, 2], [1, 1, 1, 2]], dtype=int)\n",
    "print(mat)\n",
    "print(sortDiag(mat), \"\\n\")\n",
    "\n",
    "mat = numpy.array([[11, 25, 66, 1, 69, 7], [23, 55, 17, 45, 15, 52], [75, 31, 36, 44, 58, 8], [22, 27, 33, 25, 68, 4], [84, 28, 14, 11, 5, 50]], dtype=int)\n",
    "print(mat)\n",
    "print(sortDiag(mat), \"\\n\")"
   ]
  },
  {
   "cell_type": "markdown",
   "metadata": {},
   "source": [
    "## Задача 7. Первая задача на строки "
   ]
  },
  {
   "cell_type": "markdown",
   "metadata": {},
   "source": [
    "Даны две строки: s1 и s2 с одинаковым размером, проверьте, может ли некоторая перестановка строки s1 “победить” некоторую перестановку строки s2 или наоборот. Строка x может “победить” строку y (обе имеют размер n), если x[i]> = y [i] (в алфавитном порядке) для всех i от 0 до n-1."
   ]
  },
  {
   "cell_type": "code",
   "execution_count": 7,
   "metadata": {},
   "outputs": [
    {
     "name": "stdout",
     "output_type": "stream",
     "text": [
      "True\n"
     ]
    }
   ],
   "source": [
    "def strFight (s1,s2):\n",
    "    if len(s1) != len(s2) or len(s1) > 10**5 or len(s2) > 10**5:\n",
    "        raise ValueError\n",
    "    count1 = 0\n",
    "    count2 = 0\n",
    "    s1 = ''.join(sorted(s1))\n",
    "    s2 = ''.join(sorted(s2))\n",
    "    for i in range(len(s1)):\n",
    "        if s1[i] >= s2[i]:\n",
    "            count1 += 1\n",
    "        if s1[i] <= s2[i]:\n",
    "            count2 += 1\n",
    "    if count1 == len(s1) or count2 == len(s1):\n",
    "        return True\n",
    "    return False\n",
    "print(strFight (\"abc\", \"acd\"))"
   ]
  },
  {
   "cell_type": "markdown",
   "metadata": {},
   "source": [
    "## Задача 8. Вторая задача на строки\n",
    "Дана строка s, вернуть самую длинную полиндромную подстроку в s."
   ]
  },
  {
   "cell_type": "code",
   "execution_count": 8,
   "metadata": {},
   "outputs": [
    {
     "name": "stdout",
     "output_type": "stream",
     "text": [
      "bab\n",
      "bb\n"
     ]
    }
   ],
   "source": [
    "def isPalindrome(word):\n",
    "    word = word.lower()\n",
    "    word1 = ''.join(reversed(word))\n",
    "    if word1 == word:\n",
    "        return True\n",
    "    return False\n",
    "\n",
    "def longestPalindrome(s):\n",
    "    max = 1\n",
    "    ans = s[0]\n",
    "    for a in range(len(s) - 1):\n",
    "        word = s[a]\n",
    "        for b in range(a+1, len(s)):\n",
    "            word += s[b]\n",
    "            if isPalindrome(word):\n",
    "                l = len(word)\n",
    "                if l > max:\n",
    "                    max = l\n",
    "                    ans = word\n",
    "    return ans\n",
    "print(longestPalindrome(\"babad\"))\n",
    "print(longestPalindrome(\"cbbd\"))"
   ]
  },
  {
   "cell_type": "markdown",
   "metadata": {},
   "source": [
    "## Задача 9. Третья задача на строки "
   ]
  },
  {
   "cell_type": "markdown",
   "metadata": {},
   "source": [
    "Вернуть количество отдельных непустых подстрок текста, которые могут быть записаны как конкатенация некоторой строки с самой собой (т.е. она может быть записана, как a + a, где a - некоторая строка)."
   ]
  },
  {
   "cell_type": "code",
   "execution_count": 9,
   "metadata": {},
   "outputs": [
    {
     "name": "stdout",
     "output_type": "stream",
     "text": [
      "3\n"
     ]
    }
   ],
   "source": [
    "def isConcatenationPossible(word,s):\n",
    "    for a in range(len(s) - 1):\n",
    "        guess = s[a]\n",
    "        for b in range(a+1, len(s)):\n",
    "            guess += s[b]\n",
    "            if guess == word * 2:\n",
    "                return True\n",
    "    return False\n",
    "\n",
    "\n",
    "def numOfConcatenationStrings(s):\n",
    "    count = 0\n",
    "    mem = []\n",
    "    for a in range(len(s) - 1):\n",
    "        guess = s[a]\n",
    "        if isConcatenationPossible(guess,s):\n",
    "                if guess not in mem:\n",
    "                    count += 1\n",
    "                    mem.append(guess)\n",
    "        for b in range(a+1, len(s)):\n",
    "            guess += s[b]\n",
    "            if isConcatenationPossible(guess,s):\n",
    "                if guess not in mem:\n",
    "                    count += 1\n",
    "                    mem.append(guess)\n",
    "    return count\n",
    "print (numOfConcatenationStrings(\"abcabcabc\"))"
   ]
  },
  {
   "cell_type": "markdown",
   "metadata": {},
   "source": [
    "# Вывод\n"
   ]
  },
  {
   "cell_type": "markdown",
   "metadata": {},
   "source": [
    "В ходе курсовой работы мы научились решать различные задачи при помощи языка программирования Python 3."
   ]
  },
  {
   "cell_type": "code",
   "execution_count": null,
   "metadata": {},
   "outputs": [],
   "source": []
  }
 ],
 "metadata": {
  "kernelspec": {
   "display_name": "Python 3",
   "language": "python",
   "name": "python3"
  },
  "language_info": {
   "codemirror_mode": {
    "name": "ipython",
    "version": 3
   },
   "file_extension": ".py",
   "mimetype": "text/x-python",
   "name": "python",
   "nbconvert_exporter": "python",
   "pygments_lexer": "ipython3",
   "version": "3.8.5"
  }
 },
 "nbformat": 4,
 "nbformat_minor": 4
}
