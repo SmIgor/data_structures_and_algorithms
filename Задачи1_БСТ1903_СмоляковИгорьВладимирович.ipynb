{
 "cells": [
  {
   "cell_type": "markdown",
   "metadata": {},
   "source": [
    "# Контрольные задачи по дисциплине СиАОД №1\n",
    "## Выполнил студент группы БСТ1903 Смоляков И.В.\n",
    "### Задача 1. «Треугольник с максимальным периметром»\n",
    "Массив A состоит из целых положительных чисел ­ длин отрезков. Составьте из трех отрезков такой треугольник, чтобы его периметр был максимально возможным. Если невозможно\n",
    "составить треугольник с положительной площадью ­ функция возвращает 0"
   ]
  },
  {
   "cell_type": "code",
   "execution_count": 1,
   "metadata": {},
   "outputs": [
    {
     "name": "stdout",
     "output_type": "stream",
     "text": [
      "5\n",
      "0\n",
      "10\n",
      "8\n"
     ]
    }
   ],
   "source": [
    "from math import sqrt\n",
    "\n",
    "def biggestPer(arr):\n",
    "    biggest = 0\n",
    "    for a in range(len(arr)-2):\n",
    "        for b in range(a+1, len(arr)-1):\n",
    "            for c in range(b+1, len(arr)):\n",
    "                p = (arr[a] + arr[b] + arr[c]) / 2\n",
    "                S2 = p * (p - arr[a]) * (p - arr[b]) * (p - arr[c])\n",
    "                if S2 <= 0:\n",
    "                    continue\n",
    "                S = sqrt(S2)\n",
    "                perim = arr[a] + arr[b] + arr[c]\n",
    "                if perim > biggest:\n",
    "                    biggest = perim\n",
    "    return biggest\n",
    "\n",
    "\n",
    "print(biggestPer([2,1,2]))\n",
    "print(biggestPer([1,2,1]))\n",
    "print(biggestPer([3,2,3,4]))\n",
    "print(biggestPer([3,6,2,3]))"
   ]
  },
  {
   "cell_type": "markdown",
   "metadata": {},
   "source": [
    "### Задача 2. «Максимальное число»\n",
    "Дан массив неотрицательных целых чисел nums. Расположите их в таком порядке, чтобы\n",
    "вместе они образовали максимально возможное число.\n",
    "Замечание: Результат может быть очень большим числом, поэтому представьте его как\n",
    "string, а не integer."
   ]
  },
  {
   "cell_type": "code",
   "execution_count": 1,
   "metadata": {},
   "outputs": [
    {
     "name": "stdout",
     "output_type": "stream",
     "text": [
      "210\n",
      "9534330\n",
      "1\n",
      "10\n"
     ]
    }
   ],
   "source": [
    "def maxNum(arr):\n",
    "    def is_a_bigger_than_b(a, b):\n",
    "        ab = int(str(a) + str(b))\n",
    "        ba = int(str(b) + str(a))\n",
    "        if ab > ba:\n",
    "            return True\n",
    "        else:\n",
    "            return False\n",
    "    \n",
    "    def sortArr(arr):\n",
    "        for i in range(len(arr) - 1):\n",
    "            biggest = i\n",
    "            for j in range(i + 1, len(arr)):\n",
    "                if not is_a_bigger_than_b(arr[biggest], arr[j]):\n",
    "                    biggest = j\n",
    "            arr[i], arr[biggest] = arr[biggest], arr[i]\n",
    "    \n",
    "    sortArr(arr)\n",
    "    return ''.join(str(e) for e in arr)\n",
    "\n",
    "\n",
    "print(maxNum([10,2]))\n",
    "print(maxNum([3,30,34,5,9]))\n",
    "print(maxNum([1]))\n",
    "print(maxNum([10]))"
   ]
  },
  {
   "cell_type": "markdown",
   "metadata": {},
   "source": [
    "### Задача 3. «Сортировка диагоналей в матрице»\n",
    "Дана матрица mat размером m * n, значения ­ целочисленные. Напишите функцию, сортирующую каждую диагональ матрицы по возрастанию и возвращающую получившуюся матрицу."
   ]
  },
  {
   "cell_type": "code",
   "execution_count": 3,
   "metadata": {},
   "outputs": [
    {
     "name": "stdout",
     "output_type": "stream",
     "text": [
      "[[3 3 1 1]\n",
      " [2 2 1 2]\n",
      " [1 1 1 2]]\n",
      "[[1 1 1 1]\n",
      " [1 2 2 2]\n",
      " [1 2 3 3]] \n",
      "\n",
      "[[11 25 66  1 69  7]\n",
      " [23 55 17 45 15 52]\n",
      " [75 31 36 44 58  8]\n",
      " [22 27 33 25 68  4]\n",
      " [84 28 14 11  5 50]]\n",
      "[[ 5 17  4  1 52  7]\n",
      " [11 11 25 45  8 69]\n",
      " [14 23 25 44 58 15]\n",
      " [22 27 31 36 50 66]\n",
      " [84 28 75 33 55 68]] \n",
      "\n"
     ]
    }
   ],
   "source": [
    "import numpy\n",
    "def sortDiag(matrix):\n",
    "    for i in range(len(matrix)):\n",
    "        diag = []\n",
    "        r = i\n",
    "        c = 0\n",
    "        while True:\n",
    "            try:\n",
    "                diag.append(matrix[r][c])\n",
    "                r += 1\n",
    "                c += 1\n",
    "            except IndexError:\n",
    "                break\n",
    "        diag.sort()\n",
    "        r = i\n",
    "        c = 0\n",
    "        for j in range(len(diag)):\n",
    "            matrix[r][c] = diag[j]\n",
    "            r += 1\n",
    "            c += 1\n",
    "    \n",
    "    for i in range(1, len(matrix[0])):\n",
    "        diag = []\n",
    "        r = 0\n",
    "        c = i\n",
    "        while True:\n",
    "            try:\n",
    "                diag.append(matrix[r][c])\n",
    "                r += 1\n",
    "                c += 1\n",
    "            except IndexError:\n",
    "                break\n",
    "        diag.sort()\n",
    "        r = 0\n",
    "        c = i\n",
    "        for j in range(len(diag)):\n",
    "            matrix[r][c] = diag[j]\n",
    "            r += 1\n",
    "            c += 1\n",
    "    \n",
    "    return matrix\n",
    "\n",
    "mat = numpy.array([[3, 3, 1, 1], [2, 2, 1, 2], [1, 1, 1, 2]], dtype=int)\n",
    "print(mat)\n",
    "print(sortDiag(mat), \"\\n\")\n",
    "\n",
    "mat = numpy.array([[11, 25, 66, 1, 69, 7], [23, 55, 17, 45, 15, 52], [75, 31, 36, 44, 58, 8], [22, 27, 33, 25, 68, 4], [84, 28, 14, 11, 5, 50]], dtype=int)\n",
    "print(mat)\n",
    "print(sortDiag(mat), \"\\n\")"
   ]
  }
 ],
 "metadata": {
  "kernelspec": {
   "display_name": "Python 3",
   "language": "python",
   "name": "python3"
  },
  "language_info": {
   "codemirror_mode": {
    "name": "ipython",
    "version": 3
   },
   "file_extension": ".py",
   "mimetype": "text/x-python",
   "name": "python",
   "nbconvert_exporter": "python",
   "pygments_lexer": "ipython3",
   "version": "3.8.5"
  }
 },
 "nbformat": 4,
 "nbformat_minor": 4
}
